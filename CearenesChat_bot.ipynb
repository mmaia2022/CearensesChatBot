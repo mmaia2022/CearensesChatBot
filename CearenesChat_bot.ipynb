{
  "nbformat": 4,
  "nbformat_minor": 0,
  "metadata": {
    "colab": {
      "provenance": [],
      "authorship_tag": "ABX9TyMfQE3YPHxrVRQ2E9w7kn5O",
      "include_colab_link": true
    },
    "kernelspec": {
      "name": "python3",
      "display_name": "Python 3"
    },
    "language_info": {
      "name": "python"
    }
  },
  "cells": [
    {
      "cell_type": "markdown",
      "metadata": {
        "id": "view-in-github",
        "colab_type": "text"
      },
      "source": [
        "<a href=\"https://colab.research.google.com/github/mmaia2022/CearensesChatBot/blob/main/CearenesChat_bot.ipynb\" target=\"_parent\"><img src=\"https://colab.research.google.com/assets/colab-badge.svg\" alt=\"Open In Colab\"/></a>"
      ]
    },
    {
      "cell_type": "code",
      "execution_count": null,
      "metadata": {
        "id": "cPt9jet3rz87"
      },
      "outputs": [],
      "source": [
        "pip install -q -U google-generativeai"
      ]
    },
    {
      "cell_type": "code",
      "source": [
        "import google.generativeai as gener\n",
        "\n"
      ],
      "metadata": {
        "id": "ETXtfktOtrpr"
      },
      "execution_count": 2,
      "outputs": []
    },
    {
      "cell_type": "code",
      "source": [
        "from google.colab import userdata\n",
        "api_key = userdata.get(\"SECRET_KEY\")\n",
        "gener.configure(api_key=api_key)"
      ],
      "metadata": {
        "id": "ihpEE259xURF"
      },
      "execution_count": 3,
      "outputs": []
    },
    {
      "cell_type": "code",
      "source": [
        "for m in gener.list_models():\n",
        "  if 'generateContent' in m.supported_generation_methods:\n",
        "    print(m.name)"
      ],
      "metadata": {
        "id": "gbTIbl5TyPHP",
        "colab": {
          "base_uri": "https://localhost:8080/",
          "height": 139
        },
        "outputId": "98e44b33-4479-42e5-a8bf-b786bc5f8a4a"
      },
      "execution_count": 4,
      "outputs": [
        {
          "output_type": "stream",
          "name": "stdout",
          "text": [
            "models/gemini-1.0-pro\n",
            "models/gemini-1.0-pro-001\n",
            "models/gemini-1.0-pro-latest\n",
            "models/gemini-1.0-pro-vision-latest\n",
            "models/gemini-1.5-pro-latest\n",
            "models/gemini-pro\n",
            "models/gemini-pro-vision\n"
          ]
        }
      ]
    },
    {
      "cell_type": "code",
      "source": [
        "generation_Config = {\n",
        "    \"candidatecount\":1,\n",
        "    \"temperature\": 0.5,\n",
        "}"
      ],
      "metadata": {
        "id": "9_mUuHof03U5"
      },
      "execution_count": 31,
      "outputs": []
    },
    {
      "cell_type": "code",
      "source": [
        "model = gener.GenerativeModel(model_name = 'gemini-1.0-pro')"
      ],
      "metadata": {
        "id": "s-HnBt622h_E"
      },
      "execution_count": 33,
      "outputs": []
    },
    {
      "cell_type": "markdown",
      "source": [],
      "metadata": {
        "id": "_tOiy3HTxHuu"
      }
    },
    {
      "cell_type": "code",
      "source": [
        "chat = model.start_chat(history = [])"
      ],
      "metadata": {
        "id": "jMhBYOOL_azZ"
      },
      "execution_count": 20,
      "outputs": []
    },
    {
      "cell_type": "code",
      "source": [
        "prompt = input(\"Olá, como cearense que ajudar a conhecer palavras e expressoes próprios do cearense. Digite a palavra ou expressão?:\")"
      ],
      "metadata": {
        "colab": {
          "base_uri": "https://localhost:8080/"
        },
        "id": "7jicHwWUAgtn",
        "outputId": "a269b88e-7d32-4081-d96a-a55604aed853"
      },
      "execution_count": 54,
      "outputs": [
        {
          "name": "stdout",
          "output_type": "stream",
          "text": [
            "Olá, como cearense que ajudar a conhecer palavras e expressoes próprios do cearense. Digite a palavra ou expressão?:diabo é isso?\n"
          ]
        }
      ]
    },
    {
      "cell_type": "code",
      "source": [
        "response = model.generate_content(\"Como um geniono cearense mestre em letras, explique o significado de \" + prompt + \". Mostre frases de exemlo de uso e a versão em português formal do brasil\")\n",
        "print(response.text)"
      ],
      "metadata": {
        "id": "rahx1lJW3Vtn",
        "colab": {
          "base_uri": "https://localhost:8080/",
          "height": 402
        },
        "outputId": "cea47c53-6d11-4374-d7de-f7c6ce4e1d29"
      },
      "execution_count": 55,
      "outputs": [
        {
          "output_type": "stream",
          "name": "stdout",
          "text": [
            "**Diabo é isso?**\n",
            "\n",
            "Uma expressão coloquial cearense usada para expressar surpresa, espanto ou incredulidade. Pode também ser utilizada para enfatizar uma situação ou sentimento negativo.\n",
            "\n",
            "**Origem:**\n",
            "\n",
            "A expressão possivelmente deriva da ideia de que o diabo é o responsável por situações infelizes ou extraordinárias.\n",
            "\n",
            "**Uso:**\n",
            "\n",
            "* **Uso típico:** \"Diabo é isso! Perdi todas as minhas economias!\"\n",
            "* **Uso enfático:** \"Diabo é isso! Não acredito que você fez isso!\"\n",
            "* **Uso irônico:** \"Diabo é isso! Que situação perfeita!\"\n",
            "\n",
            "**Versão em Português Formal Brasileiro:**\n",
            "\n",
            "* **Expressão equivalente:** \"Poxa vida!\" ou \"Meu Deus!\"\n",
            "* **Frases de exemplo:**\n",
            "    * \"Poxa vida, como eu sou azarado!\"\n",
            "    * \"Meu Deus, não acredito que isso aconteceu!\"\n",
            "    * \"Meu Deus, que situação terrível!\"\n"
          ]
        }
      ]
    },
    {
      "cell_type": "markdown",
      "source": [
        "INstaldo o sdk do google generativa"
      ],
      "metadata": {
        "id": "s_d5QvATtdjP"
      }
    }
  ]
}